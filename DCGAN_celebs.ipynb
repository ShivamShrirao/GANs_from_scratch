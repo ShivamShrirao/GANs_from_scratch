{
 "cells": [
  {
   "cell_type": "code",
   "execution_count": 59,
   "metadata": {
    "colab": {
     "base_uri": "https://localhost:8080/",
     "height": 289
    },
    "colab_type": "code",
    "id": "m9M4mazULess",
    "outputId": "337e5a30-af72-4b1e-e7f7-c1e0dc068513"
   },
   "outputs": [
    {
     "name": "stdout",
     "output_type": "stream",
     "text": [
      "Thu Apr 23 05:38:21 2020       \n",
      "+-----------------------------------------------------------------------------+\n",
      "| NVIDIA-SMI 440.64.00    Driver Version: 418.67       CUDA Version: 10.1     |\n",
      "|-------------------------------+----------------------+----------------------+\n",
      "| GPU  Name        Persistence-M| Bus-Id        Disp.A | Volatile Uncorr. ECC |\n",
      "| Fan  Temp  Perf  Pwr:Usage/Cap|         Memory-Usage | GPU-Util  Compute M. |\n",
      "|===============================+======================+======================|\n",
      "|   0  Tesla P100-PCIE...  Off  | 00000000:00:04.0 Off |                    0 |\n",
      "| N/A   56C    P0    43W / 250W |   6111MiB / 16280MiB |      0%      Default |\n",
      "+-------------------------------+----------------------+----------------------+\n",
      "                                                                               \n",
      "+-----------------------------------------------------------------------------+\n",
      "| Processes:                                                       GPU Memory |\n",
      "|  GPU       PID   Type   Process name                             Usage      |\n",
      "|=============================================================================|\n",
      "+-----------------------------------------------------------------------------+\n"
     ]
    }
   ],
   "source": [
    "!nvidia-smi"
   ]
  },
  {
   "cell_type": "code",
   "execution_count": 2,
   "metadata": {
    "colab": {
     "base_uri": "https://localhost:8080/",
     "height": 204
    },
    "colab_type": "code",
    "id": "_jVpd8rlPAY7",
    "outputId": "d46c7bca-4e73-4937-d1f6-52fb3a6705c9"
   },
   "outputs": [
    {
     "name": "stdout",
     "output_type": "stream",
     "text": [
      "Requirement already satisfied: kaggle in /usr/local/lib/python3.6/dist-packages (1.5.6)\n",
      "Requirement already satisfied: python-slugify in /usr/local/lib/python3.6/dist-packages (from kaggle) (4.0.0)\n",
      "Requirement already satisfied: certifi in /usr/local/lib/python3.6/dist-packages (from kaggle) (2020.4.5.1)\n",
      "Requirement already satisfied: urllib3<1.25,>=1.21.1 in /usr/local/lib/python3.6/dist-packages (from kaggle) (1.24.3)\n",
      "Requirement already satisfied: tqdm in /usr/local/lib/python3.6/dist-packages (from kaggle) (4.38.0)\n",
      "Requirement already satisfied: requests in /usr/local/lib/python3.6/dist-packages (from kaggle) (2.21.0)\n",
      "Requirement already satisfied: six>=1.10 in /usr/local/lib/python3.6/dist-packages (from kaggle) (1.12.0)\n",
      "Requirement already satisfied: python-dateutil in /usr/local/lib/python3.6/dist-packages (from kaggle) (2.8.1)\n",
      "Requirement already satisfied: text-unidecode>=1.3 in /usr/local/lib/python3.6/dist-packages (from python-slugify->kaggle) (1.3)\n",
      "Requirement already satisfied: idna<2.9,>=2.5 in /usr/local/lib/python3.6/dist-packages (from requests->kaggle) (2.8)\n",
      "Requirement already satisfied: chardet<3.1.0,>=3.0.2 in /usr/local/lib/python3.6/dist-packages (from requests->kaggle) (3.0.4)\n"
     ]
    }
   ],
   "source": [
    "!pip install kaggle"
   ]
  },
  {
   "cell_type": "code",
   "execution_count": 5,
   "metadata": {
    "colab": {
     "base_uri": "https://localhost:8080/",
     "height": 34
    },
    "colab_type": "code",
    "id": "UStrv1CvP_Xv",
    "outputId": "71abfb22-7a47-4dcb-9696-fb647935d964"
   },
   "outputs": [
    {
     "name": "stdout",
     "output_type": "stream",
     "text": [
      "mkdir: cannot create directory ‘/root/.kaggle’: File exists\n"
     ]
    }
   ],
   "source": [
    "!mkdir ~/.kaggle\n",
    "!cp kaggle.json ~/.kaggle/\n",
    "!chmod 600 ~/.kaggle/kaggle.json"
   ]
  },
  {
   "cell_type": "code",
   "execution_count": 6,
   "metadata": {
    "colab": {
     "base_uri": "https://localhost:8080/",
     "height": 68
    },
    "colab_type": "code",
    "id": "Pk0FP05uQKdS",
    "outputId": "6b63f4f2-b9a6-47d1-f022-deafab104cfa"
   },
   "outputs": [
    {
     "name": "stdout",
     "output_type": "stream",
     "text": [
      "Downloading celebrities-100k.zip to /content\n",
      " 99% 820M/828M [00:12<00:00, 30.0MB/s]\n",
      "100% 828M/828M [00:12<00:00, 69.4MB/s]\n"
     ]
    }
   ],
   "source": [
    "!kaggle datasets download -d greg115/celebrities-100k"
   ]
  },
  {
   "cell_type": "code",
   "execution_count": null,
   "metadata": {
    "colab": {
     "base_uri": "https://localhost:8080/",
     "height": 1000
    },
    "colab_type": "code",
    "id": "l--PCacbQL7L",
    "outputId": "c9d18842-55f6-45e2-908c-ba4b64fa1ebb"
   },
   "outputs": [],
   "source": [
    "!unzip -q celebrities-100k.zip"
   ]
  },
  {
   "cell_type": "code",
   "execution_count": 0,
   "metadata": {
    "colab": {},
    "colab_type": "code",
    "id": "o63EPVkBRDVV"
   },
   "outputs": [],
   "source": [
    "!rm celebrities-100k.zip"
   ]
  },
  {
   "cell_type": "code",
   "execution_count": 9,
   "metadata": {
    "colab": {
     "base_uri": "https://localhost:8080/",
     "height": 136
    },
    "colab_type": "code",
    "id": "alWcRF83RN-r",
    "outputId": "9744fca5-1450-478d-f3c7-7d22d6644664"
   },
   "outputs": [
    {
     "name": "stdout",
     "output_type": "stream",
     "text": [
      "Cloning into 'dnn_from_scratch'...\n",
      "remote: Enumerating objects: 330, done.\u001b[K\n",
      "remote: Counting objects:   0% (1/330)\u001b[K\r",
      "remote: Counting objects:   1% (4/330)\u001b[K\r",
      "remote: Counting objects:   2% (7/330)\u001b[K\r",
      "remote: Counting objects:   3% (10/330)\u001b[K\r",
      "remote: Counting objects:   4% (14/330)\u001b[K\r",
      "remote: Counting objects:   5% (17/330)\u001b[K\r",
      "remote: Counting objects:   6% (20/330)\u001b[K\r",
      "remote: Counting objects:   7% (24/330)\u001b[K\r",
      "remote: Counting objects:   8% (27/330)\u001b[K\r",
      "remote: Counting objects:   9% (30/330)\u001b[K\r",
      "remote: Counting objects:  10% (33/330)\u001b[K\r",
      "remote: Counting objects:  11% (37/330)\u001b[K\r",
      "remote: Counting objects:  12% (40/330)\u001b[K\r",
      "remote: Counting objects:  13% (43/330)\u001b[K\r",
      "remote: Counting objects:  14% (47/330)\u001b[K\r",
      "remote: Counting objects:  15% (50/330)\u001b[K\r",
      "remote: Counting objects:  16% (53/330)\u001b[K\r",
      "remote: Counting objects:  17% (57/330)\u001b[K\r",
      "remote: Counting objects:  18% (60/330)\u001b[K\r",
      "remote: Counting objects:  19% (63/330)\u001b[K\r",
      "remote: Counting objects:  20% (66/330)\u001b[K\r",
      "remote: Counting objects:  21% (70/330)\u001b[K\r",
      "remote: Counting objects:  22% (73/330)\u001b[K\r",
      "remote: Counting objects:  23% (76/330)\u001b[K\r",
      "remote: Counting objects:  24% (80/330)\u001b[K\r",
      "remote: Counting objects:  25% (83/330)\u001b[K\r",
      "remote: Counting objects:  26% (86/330)\u001b[K\r",
      "remote: Counting objects:  27% (90/330)\u001b[K\r",
      "remote: Counting objects:  28% (93/330)\u001b[K\r",
      "remote: Counting objects:  29% (96/330)\u001b[K\r",
      "remote: Counting objects:  30% (99/330)\u001b[K\r",
      "remote: Counting objects:  31% (103/330)\u001b[K\r",
      "remote: Counting objects:  32% (106/330)\u001b[K\r",
      "remote: Counting objects:  33% (109/330)\u001b[K\r",
      "remote: Counting objects:  34% (113/330)\u001b[K\r",
      "remote: Counting objects:  35% (116/330)\u001b[K\r",
      "remote: Counting objects:  36% (119/330)\u001b[K\r",
      "remote: Counting objects:  37% (123/330)\u001b[K\r",
      "remote: Counting objects:  38% (126/330)\u001b[K\r",
      "remote: Counting objects:  39% (129/330)\u001b[K\r",
      "remote: Counting objects:  40% (132/330)\u001b[K\r",
      "remote: Counting objects:  41% (136/330)\u001b[K\r",
      "remote: Counting objects:  42% (139/330)\u001b[K\r",
      "remote: Counting objects:  43% (142/330)\u001b[K\r",
      "remote: Counting objects:  44% (146/330)\u001b[K\r",
      "remote: Counting objects:  45% (149/330)\u001b[K\r",
      "remote: Counting objects:  46% (152/330)\u001b[K\r",
      "remote: Counting objects:  47% (156/330)\u001b[K\r",
      "remote: Counting objects:  48% (159/330)\u001b[K\r",
      "remote: Counting objects:  49% (162/330)\u001b[K\r",
      "remote: Counting objects:  50% (165/330)\u001b[K\r",
      "remote: Counting objects:  51% (169/330)\u001b[K\r",
      "remote: Counting objects:  52% (172/330)\u001b[K\r",
      "remote: Counting objects:  53% (175/330)\u001b[K\r",
      "remote: Counting objects:  54% (179/330)\u001b[K\r",
      "remote: Counting objects:  55% (182/330)\u001b[K\r",
      "remote: Counting objects:  56% (185/330)\u001b[K\r",
      "remote: Counting objects:  57% (189/330)\u001b[K\r",
      "remote: Counting objects:  58% (192/330)\u001b[K\r",
      "remote: Counting objects:  59% (195/330)\u001b[K\r",
      "remote: Counting objects:  60% (198/330)\u001b[K\r",
      "remote: Counting objects:  61% (202/330)\u001b[K\r",
      "remote: Counting objects:  62% (205/330)\u001b[K\r",
      "remote: Counting objects:  63% (208/330)\u001b[K\r",
      "remote: Counting objects:  64% (212/330)\u001b[K\r",
      "remote: Counting objects:  65% (215/330)\u001b[K\r",
      "remote: Counting objects:  66% (218/330)\u001b[K\r",
      "remote: Counting objects:  67% (222/330)\u001b[K\r",
      "remote: Counting objects:  68% (225/330)\u001b[K\r",
      "remote: Counting objects:  69% (228/330)\u001b[K\r",
      "remote: Counting objects:  70% (231/330)\u001b[K\r",
      "remote: Counting objects:  71% (235/330)\u001b[K\r",
      "remote: Counting objects:  72% (238/330)\u001b[K\r",
      "remote: Counting objects:  73% (241/330)\u001b[K\r",
      "remote: Counting objects:  74% (245/330)\u001b[K\r",
      "remote: Counting objects:  75% (248/330)\u001b[K\r",
      "remote: Counting objects:  76% (251/330)\u001b[K\r",
      "remote: Counting objects:  77% (255/330)\u001b[K\r",
      "remote: Counting objects:  78% (258/330)\u001b[K\r",
      "remote: Counting objects:  79% (261/330)\u001b[K\r",
      "remote: Counting objects:  80% (264/330)\u001b[K\r",
      "remote: Counting objects:  81% (268/330)\u001b[K\r",
      "remote: Counting objects:  82% (271/330)\u001b[K\r",
      "remote: Counting objects:  83% (274/330)\u001b[K\r",
      "remote: Counting objects:  84% (278/330)\u001b[K\r",
      "remote: Counting objects:  85% (281/330)\u001b[K\r",
      "remote: Counting objects:  86% (284/330)\u001b[K\r",
      "remote: Counting objects:  87% (288/330)\u001b[K\r",
      "remote: Counting objects:  88% (291/330)\u001b[K\r",
      "remote: Counting objects:  89% (294/330)\u001b[K\r",
      "remote: Counting objects:  90% (297/330)\u001b[K\r",
      "remote: Counting objects:  91% (301/330)\u001b[K\r",
      "remote: Counting objects:  92% (304/330)\u001b[K\r",
      "remote: Counting objects:  93% (307/330)\u001b[K\r",
      "remote: Counting objects:  94% (311/330)\u001b[K\r",
      "remote: Counting objects:  95% (314/330)\u001b[K\r",
      "remote: Counting objects:  96% (317/330)\u001b[K\r",
      "remote: Counting objects:  97% (321/330)\u001b[K\r",
      "remote: Counting objects:  98% (324/330)\u001b[K\r",
      "remote: Counting objects:  99% (327/330)\u001b[K\r",
      "remote: Counting objects: 100% (330/330)\u001b[K\r",
      "remote: Counting objects: 100% (330/330), done.\u001b[K\n",
      "remote: Compressing objects: 100% (226/226), done.\u001b[K\n",
      "remote: Total 1021 (delta 231), reused 192 (delta 98), pack-reused 691\u001b[K\n",
      "Receiving objects: 100% (1021/1021), 12.97 MiB | 16.25 MiB/s, done.\n",
      "Resolving deltas: 100% (656/656), done.\n"
     ]
    }
   ],
   "source": [
    "!python -m pip install git+https://github.com/ShivamShrirao/dnn_from_scratch.git"
   ]
  },
  {
   "cell_type": "code",
   "execution_count": 0,
   "metadata": {
    "colab": {},
    "colab_type": "code",
    "id": "zpc9l7j6K4n-"
   },
   "outputs": [],
   "source": [
    "import timeit\n",
    "import matplotlib.pyplot as plt\n",
    "import pickle\n",
    "from time import time\n",
    "import numpy as np"
   ]
  },
  {
   "cell_type": "code",
   "execution_count": 0,
   "metadata": {
    "colab": {},
    "colab_type": "code",
    "id": "Gh6VmWKpK4oJ"
   },
   "outputs": [],
   "source": [
    "from matplotlib.image import imread\n",
    "import cv2"
   ]
  },
  {
   "cell_type": "code",
   "execution_count": 0,
   "metadata": {
    "colab": {},
    "colab_type": "code",
    "id": "5g2B3ynrK4oO"
   },
   "outputs": [],
   "source": [
    "DATA_DIR=\"/content/100k\"\n",
    "with open(DATA_DIR+\".txt\",\"r\") as f:\n",
    "    names=f.read().split('\\n')[:-1]"
   ]
  },
  {
   "cell_type": "code",
   "execution_count": 5,
   "metadata": {
    "colab": {},
    "colab_type": "code",
    "id": "W176w6GuK4oY"
   },
   "outputs": [],
   "source": [
    "from nnet_gpu.network import Sequential\n",
    "from nnet_gpu.layers import Conv2D,MaxPool,Flatten,Dense,Dropout,Conv2Dtranspose,Upsampling,Reshape,BatchNormalization,Activation\n",
    "from nnet_gpu import functions\n",
    "from nnet_gpu import optimizers\n",
    "import numpy as np\n",
    "import cupy as cp"
   ]
  },
  {
   "cell_type": "code",
   "execution_count": 6,
   "metadata": {
    "colab": {
     "base_uri": "https://localhost:8080/",
     "height": 799
    },
    "colab_type": "code",
    "id": "beIoSFeCK4oe",
    "outputId": "c61c197c-9489-4d78-f1be-fe7a7ba77408"
   },
   "outputs": [
    {
     "name": "stdout",
     "output_type": "stream",
     "text": [
      "⎽⎽⎽⎽⎽⎽⎽⎽⎽⎽⎽⎽⎽⎽⎽⎽⎽⎽⎽⎽⎽⎽⎽⎽⎽⎽⎽⎽⎽⎽⎽⎽⎽⎽⎽⎽⎽⎽⎽⎽⎽⎽⎽⎽⎽⎽⎽⎽⎽⎽⎽⎽⎽⎽⎽⎽⎽⎽⎽⎽⎽⎽⎽⎽⎽⎽⎽⎽⎽⎽⎽⎽⎽⎽⎽⎽⎽⎽⎽⎽⎽⎽⎽⎽⎽⎽⎽⎽⎽⎽\n",
      "Layer (type)               Output Shape             Activation        Param #\n",
      "==========================================================================================\n",
      "- InputLayer(InputLayer)  (None, 100)                echo             0\n",
      "__________________________________________________________________________________________\n",
      "0 Dense(Dense)            (None, 32768)              leakyRelu        3309568\n",
      "__________________________________________________________________________________________\n",
      "1 Reshape(Reshape)        (None, 8, 8, 512)          echo             0\n",
      "__________________________________________________________________________________________\n",
      "2 Upsampling(Upsampling)  (None, 16, 16, 512)        echo             0\n",
      "__________________________________________________________________________________________\n",
      "3 Conv2D(Conv2D)          (None, 16, 16, 512)        echo             2359808\n",
      "__________________________________________________________________________________________\n",
      "4 BatchNormalization(Batc (None, 16, 16, 512)        echo             2048\n",
      "__________________________________________________________________________________________\n",
      "5 Activation(Activation)  (None, 16, 16, 512)        leakyRelu        0\n",
      "__________________________________________________________________________________________\n",
      "6 Upsampling(Upsampling)  (None, 32, 32, 512)        echo             0\n",
      "__________________________________________________________________________________________\n",
      "7 Conv2D(Conv2D)          (None, 32, 32, 256)        echo             1179904\n",
      "__________________________________________________________________________________________\n",
      "8 BatchNormalization(Batc (None, 32, 32, 256)        echo             1024\n",
      "__________________________________________________________________________________________\n",
      "9 Activation(Activation)  (None, 32, 32, 256)        leakyRelu        0\n",
      "__________________________________________________________________________________________\n",
      "10 Upsampling(Upsampling) (None, 64, 64, 256)        echo             0\n",
      "__________________________________________________________________________________________\n",
      "11 Conv2D(Conv2D)         (None, 64, 64, 128)        echo             295040\n",
      "__________________________________________________________________________________________\n",
      "12 BatchNormalization(Bat (None, 64, 64, 128)        echo             512\n",
      "__________________________________________________________________________________________\n",
      "13 Activation(Activation) (None, 64, 64, 128)        leakyRelu        0\n",
      "__________________________________________________________________________________________\n",
      "14 Upsampling(Upsampling) (None, 128, 128, 128)      echo             0\n",
      "__________________________________________________________________________________________\n",
      "15 Conv2D(Conv2D)         (None, 128, 128, 64)       echo             73792\n",
      "__________________________________________________________________________________________\n",
      "16 BatchNormalization(Bat (None, 128, 128, 64)       echo             256\n",
      "__________________________________________________________________________________________\n",
      "17 Activation(Activation) (None, 128, 128, 64)       leakyRelu        0\n",
      "__________________________________________________________________________________________\n",
      "18 Conv2D(Conv2D)         (None, 128, 128, 3)        tanh             1731\n",
      "==========================================================================================\n",
      "Total Params: 7,223,683\n",
      "Trainable Params: 7,221,763\n",
      "Non-trainable Params: 1,920\n"
     ]
    }
   ],
   "source": [
    "def generator():\n",
    "    model=Sequential()\n",
    "    model.add(Dense(8*8*512,activation=functions.leakyRelu,input_shape=100))\n",
    "    model.add(Reshape((8,8,512)))\n",
    "    model.add(Upsampling())\n",
    "    model.add(Conv2D(512,kernel_size=3))\n",
    "    model.add(BatchNormalization())\n",
    "    model.add(Activation(functions.leakyRelu))\n",
    "    model.add(Upsampling())\n",
    "    model.add(Conv2D(256,kernel_size=3))\n",
    "    model.add(BatchNormalization())\n",
    "    model.add(Activation(functions.leakyRelu))\n",
    "    model.add(Upsampling())\n",
    "    model.add(Conv2D(128,kernel_size=3))\n",
    "    model.add(BatchNormalization())\n",
    "    model.add(Activation(functions.leakyRelu))\n",
    "    model.add(Upsampling())\n",
    "    model.add(Conv2D(64,kernel_size=3))\n",
    "    model.add(BatchNormalization())\n",
    "    model.add(Activation(functions.leakyRelu))\n",
    "    model.add(Conv2D(3,kernel_size=3,activation=functions.tanh))\n",
    "    return model\n",
    "g=generator()\n",
    "g.summary()"
   ]
  },
  {
   "cell_type": "code",
   "execution_count": 7,
   "metadata": {
    "colab": {
     "base_uri": "https://localhost:8080/",
     "height": 595
    },
    "colab_type": "code",
    "id": "3JlBP2B6K4ok",
    "outputId": "304f7f23-eff6-420f-ddba-2f834e4ec822"
   },
   "outputs": [
    {
     "name": "stdout",
     "output_type": "stream",
     "text": [
      "⎽⎽⎽⎽⎽⎽⎽⎽⎽⎽⎽⎽⎽⎽⎽⎽⎽⎽⎽⎽⎽⎽⎽⎽⎽⎽⎽⎽⎽⎽⎽⎽⎽⎽⎽⎽⎽⎽⎽⎽⎽⎽⎽⎽⎽⎽⎽⎽⎽⎽⎽⎽⎽⎽⎽⎽⎽⎽⎽⎽⎽⎽⎽⎽⎽⎽⎽⎽⎽⎽⎽⎽⎽⎽⎽⎽⎽⎽⎽⎽⎽⎽⎽⎽⎽⎽⎽⎽⎽⎽\n",
      "Layer (type)               Output Shape             Activation        Param #\n",
      "==========================================================================================\n",
      "- InputLayer(InputLayer)  (None, 128, 128, 3)        echo             0\n",
      "__________________________________________________________________________________________\n",
      "0 Conv2D(Conv2D)          (None, 64, 64, 64)         echo             1792\n",
      "__________________________________________________________________________________________\n",
      "1 Activation(Activation)  (None, 64, 64, 64)         leakyRelu        0\n",
      "__________________________________________________________________________________________\n",
      "2 Conv2D(Conv2D)          (None, 32, 32, 128)        echo             73856\n",
      "__________________________________________________________________________________________\n",
      "3 BatchNormalization(Batc (None, 32, 32, 128)        echo             512\n",
      "__________________________________________________________________________________________\n",
      "4 Activation(Activation)  (None, 32, 32, 128)        leakyRelu        0\n",
      "__________________________________________________________________________________________\n",
      "5 Conv2D(Conv2D)          (None, 16, 16, 256)        echo             295168\n",
      "__________________________________________________________________________________________\n",
      "6 BatchNormalization(Batc (None, 16, 16, 256)        echo             1024\n",
      "__________________________________________________________________________________________\n",
      "7 Activation(Activation)  (None, 16, 16, 256)        leakyRelu        0\n",
      "__________________________________________________________________________________________\n",
      "8 Conv2D(Conv2D)          (None, 8, 8, 512)          echo             1180160\n",
      "__________________________________________________________________________________________\n",
      "9 BatchNormalization(Batc (None, 8, 8, 512)          echo             2048\n",
      "__________________________________________________________________________________________\n",
      "10 Activation(Activation) (None, 8, 8, 512)          leakyRelu        0\n",
      "__________________________________________________________________________________________\n",
      "11 Flatten(Flatten)       (None, 32768)              echo             0\n",
      "__________________________________________________________________________________________\n",
      "12 Dense(Dense)           (None, 1)                  sigmoid          32769\n",
      "==========================================================================================\n",
      "Total Params: 1,587,329\n",
      "Trainable Params: 1,585,537\n",
      "Non-trainable Params: 1,792\n"
     ]
    }
   ],
   "source": [
    "def discriminator():\n",
    "    model=Sequential()\n",
    "    model.add(Conv2D(64,kernel_size=3,stride=[2,2],input_shape=(128,128,3)))\n",
    "    model.add(Activation(functions.leakyRelu))\n",
    "    model.add(Conv2D(128,kernel_size=3,stride=[2,2]))\n",
    "    model.add(BatchNormalization())\n",
    "    model.add(Activation(functions.leakyRelu))\n",
    "    model.add(Conv2D(256,kernel_size=3,stride=[2,2]))\n",
    "    model.add(BatchNormalization())\n",
    "    model.add(Activation(functions.leakyRelu))\n",
    "    model.add(Conv2D(512,kernel_size=3,stride=[2,2]))\n",
    "    model.add(BatchNormalization())\n",
    "    model.add(Activation(functions.leakyRelu))\n",
    "    model.add(Flatten())\n",
    "    model.add(Dense(1,activation=functions.sigmoid))\n",
    "    return model\n",
    "d=discriminator()\n",
    "d.summary()"
   ]
  },
  {
   "cell_type": "code",
   "execution_count": 0,
   "metadata": {
    "colab": {},
    "colab_type": "code",
    "id": "hiL6on0IK4oo"
   },
   "outputs": [],
   "source": [
    "g.compile(optimizer=optimizers.adam,loss=functions.mean_squared_error,learning_rate=0.0004,beta=0.5)\n",
    "d.compile(optimizer=optimizers.adam,loss=functions.cross_entropy,learning_rate=0.0004,beta=0.5)"
   ]
  },
  {
   "cell_type": "code",
   "execution_count": 0,
   "metadata": {
    "colab": {},
    "colab_type": "code",
    "id": "4ZFyMkLZK4os"
   },
   "outputs": [],
   "source": [
    "svdnoise=cp.random.randn(16,100).astype(cp.float32)\n",
    "gen=g.predict(svdnoise)"
   ]
  },
  {
   "cell_type": "code",
   "execution_count": 0,
   "metadata": {
    "colab": {},
    "colab_type": "code",
    "id": "86wyW1NqK4ow"
   },
   "outputs": [],
   "source": [
    "def gen_sample():\n",
    "    noise=cp.random.randn(1,100).astype(cp.float32)\n",
    "    gen=g.predict(noise)\n",
    "    plt.imshow((gen[0].get()+1)/2,interpolation='bicubic')\n",
    "    plt.show()\n",
    "    print(d.predict(gen)[0])"
   ]
  },
  {
   "cell_type": "code",
   "execution_count": 21,
   "metadata": {
    "colab": {
     "base_uri": "https://localhost:8080/",
     "height": 122
    },
    "colab_type": "code",
    "id": "HDwUQK6_5S61",
    "outputId": "a0046878-bcae-4676-9cde-b5dfc77fc020"
   },
   "outputs": [
    {
     "name": "stdout",
     "output_type": "stream",
     "text": [
      "Go to this URL in a browser: https://accounts.google.com/o/oauth2/auth?client_id=947318989803-6bn6qk8qdgf4n4g3pfee6491hc0brc4i.apps.googleusercontent.com&redirect_uri=urn%3aietf%3awg%3aoauth%3a2.0%3aoob&response_type=code&scope=email%20https%3a%2f%2fwww.googleapis.com%2fauth%2fdocs.test%20https%3a%2f%2fwww.googleapis.com%2fauth%2fdrive%20https%3a%2f%2fwww.googleapis.com%2fauth%2fdrive.photos.readonly%20https%3a%2f%2fwww.googleapis.com%2fauth%2fpeopleapi.readonly\n",
      "\n",
      "Enter your authorization code:\n",
      "··········\n",
      "Mounted at /content/drive\n"
     ]
    }
   ],
   "source": [
    "from google.colab import drive\n",
    "drive.mount('/content/drive')"
   ]
  },
  {
   "cell_type": "code",
   "execution_count": 0,
   "metadata": {
    "colab": {},
    "colab_type": "code",
    "id": "1-cq4t-vK4o1"
   },
   "outputs": [],
   "source": [
    "def gen_grid(noise,show=True,save=False):\n",
    "    fig, ax = plt.subplots(nrows=4,ncols=4,figsize=[20,20],gridspec_kw = {'wspace':0, 'hspace':0})\n",
    "    fig.patch.set_facecolor('white')\n",
    "    gen=g.predict(noise).get()\n",
    "    for i,axi in enumerate(ax.flat):\n",
    "        axi.axis(\"off\")\n",
    "        axi.imshow((gen[i].squeeze()+1)/2,interpolation='bicubic')\n",
    "    if save:\n",
    "        fig.savefig(\"/content/drive/My Drive/timelapse/\"+str(ccu)+\"img\"+str(time())[-5:]+\".png\",bbox_inches='tight')\n",
    "    if not show:\n",
    "        plt.close(fig)"
   ]
  },
  {
   "cell_type": "code",
   "execution_count": 0,
   "metadata": {
    "colab": {},
    "colab_type": "code",
    "id": "hZSRdma0K4o6"
   },
   "outputs": [],
   "source": [
    "ccu=0"
   ]
  },
  {
   "cell_type": "code",
   "execution_count": 0,
   "metadata": {
    "colab": {},
    "colab_type": "code",
    "id": "I2WyOOwLkLiT"
   },
   "outputs": [],
   "source": [
    "batch_size=32"
   ]
  },
  {
   "cell_type": "code",
   "execution_count": 0,
   "metadata": {
    "colab": {},
    "colab_type": "code",
    "id": "BOubfb-ec2A4"
   },
   "outputs": [],
   "source": [
    "from threading import Thread"
   ]
  },
  {
   "cell_type": "code",
   "execution_count": 0,
   "metadata": {
    "colab": {},
    "colab_type": "code",
    "id": "foMmf4mreG9m"
   },
   "outputs": [],
   "source": [
    "transfer_stream=cp.cuda.stream.Stream(non_blocking=True)\n",
    "default_stream=cp.cuda.get_current_stream()"
   ]
  },
  {
   "cell_type": "code",
   "execution_count": 0,
   "metadata": {
    "colab": {},
    "colab_type": "code",
    "id": "cpWNL5ktd3Rw"
   },
   "outputs": [],
   "source": [
    "bch_img=None\n",
    "event=transfer_stream.record()"
   ]
  },
  {
   "cell_type": "code",
   "execution_count": 0,
   "metadata": {
    "colab": {},
    "colab_type": "code",
    "id": "crKrh05qdgkx"
   },
   "outputs": [],
   "source": [
    "def get_batch(st,btsz):\n",
    "    X_train=[]\n",
    "    for ii in names[st:st+btsz]:\n",
    "        img=imread(DATA_DIR+\"/100k/\"+ii)\n",
    "#         img=cv2.resize(img, dsize=(64,64), interpolation=cv2.INTER_AREA)\n",
    "        X_train.append(img/255*2-1)\n",
    "    global bch_img,event#,transfer_stream\n",
    "    # with transfer_stream:\n",
    "    bch_img=cp.asarray(X_train,dtype=np.float32)\n",
    "    # event=transfer_stream.record(event)"
   ]
  },
  {
   "cell_type": "code",
   "execution_count": 0,
   "metadata": {
    "colab": {},
    "colab_type": "code",
    "id": "7oPBSAUMc-Bn"
   },
   "outputs": [],
   "source": [
    "t=Thread(target=get_batch,args=(ccu,batch_size,))\n",
    "t.setDaemon(True)\n",
    "t.start()"
   ]
  },
  {
   "cell_type": "code",
   "execution_count": 0,
   "metadata": {
    "colab": {},
    "colab_type": "code",
    "id": "fhXSzv_EK4o-"
   },
   "outputs": [],
   "source": [
    "def run(batch_size=16):\n",
    "    global ccu,svdnoise\n",
    "    dsz=len(names)\n",
    "    # Label real ones as 90% real\n",
    "    y_fake=cp.zeros((batch_size,1),dtype=cp.float32)\n",
    "    y_real=cp.ones((batch_size,1),dtype=cp.float32)\n",
    "    y_gen=cp.ones((batch_size,1),dtype=cp.float32)\n",
    "    elap=time()\n",
    "    for step in range(dsz//batch_size):\n",
    "        # Get random real images\n",
    "        global bch_img,event,default_stream,t\n",
    "        t.join()\n",
    "        # default_stream.wait_event(event)\n",
    "        real_images=bch_img\n",
    "        t=Thread(target=get_batch,args=(ccu,batch_size,))\n",
    "        t.setDaemon(True)\n",
    "        t.start()\n",
    "        if len(real_images)!=batch_size:\n",
    "          continue\n",
    "        ccu+=batch_size\n",
    "        if ccu>len(names):\n",
    "            ccu=0\n",
    "            break\n",
    "        stt=time()\n",
    "        noise=cp.random.randn(batch_size,100,dtype=cp.float32)\n",
    "        # Generate fake images from noise\n",
    "        generated_images=g.predict(noise)\n",
    "        # Train discriminator\n",
    "        y_fake=cp.random.uniform(0,0.05,(batch_size,1),dtype=cp.float32)\n",
    "        y_real=cp.random.uniform(0.95,1,(batch_size,1),dtype=cp.float32)\n",
    "        dout1=d.train_on_batch(real_images,y_real)\n",
    "        dout2=d.train_on_batch(generated_images,y_fake)\n",
    "        dloss=functions.cross_entropy(logits=dout2,labels=y_fake).sum()\n",
    "        # Treat noised input of generator as real data\n",
    "        noise=cp.random.randn(batch_size,100,dtype=cp.float32)\n",
    "        # Train generator\n",
    "        gout=g.forward(noise)\n",
    "        # do not train discriminator and find delta for generator\n",
    "        dout,err=d.not_train_on_batch(gout,y_gen)\n",
    "        # backpropogate the generator and update weights\n",
    "        g.backprop(err,g.lenseq_m1)\n",
    "        g.optimizer(g.sequence,g.learning_rate,g.beta)\n",
    "        stptm=time()-stt\n",
    "        if not step%120 and step>0:\n",
    "            print(\"\\nSaving grid.\")\n",
    "            gen_grid(svdnoise[:25],show=False,save=False)\n",
    "            gen_sample()\n",
    "        # global transfer_stream\n",
    "        # with transfer_stream:\n",
    "        print(f\"\\rProgress: {step*batch_size*100/dsz:.2f} % - {ccu} - {stptm:.3f}s/step - Elapsed: {time()-elap:.6}s - Dloss: {dloss.get():.6} - err: {abs(err).sum().get():.6}    _\",end='')\n",
    "    if ccu>=len(names):\n",
    "        ccu=0"
   ]
  },
  {
   "cell_type": "code",
   "execution_count": 0,
   "metadata": {
    "colab": {},
    "colab_type": "code",
    "id": "V3CdBM4imLF1"
   },
   "outputs": [],
   "source": [
    "import gc"
   ]
  },
  {
   "cell_type": "code",
   "execution_count": 0,
   "metadata": {
    "colab": {},
    "colab_type": "code",
    "id": "kxE_1z2jmNK3"
   },
   "outputs": [],
   "source": [
    "gc.collect()\n",
    "cp.get_default_pinned_memory_pool().free_all_blocks()\n",
    "cp.get_default_memory_pool().free_all_blocks()\n",
    "# ccu=0"
   ]
  },
  {
   "cell_type": "code",
   "execution_count": 0,
   "metadata": {
    "colab": {
     "base_uri": "https://localhost:8080/",
     "height": 51
    },
    "colab_type": "code",
    "id": "T-cROJBwK4pB",
    "outputId": "a07f265f-2836-4388-a6cc-aa40efb6d82f",
    "scrolled": true
   },
   "outputs": [
    {
     "name": "stdout",
     "output_type": "stream",
     "text": [
      "EPOCH: 1 / 5\n",
      "Progress: 0.74 % - 768 - 0.245s/step - Elapsed: 23.8579s - Dloss: 14.3768 - err: 1860.72    _"
     ]
    }
   ],
   "source": [
    "epochs=5\n",
    "for epoch in range(epochs):\n",
    "    gc.collect()\n",
    "    cp.get_default_pinned_memory_pool().free_all_blocks()\n",
    "    cp.get_default_memory_pool().free_all_blocks()\n",
    "    print(\"EPOCH:\",epoch+1,'/',epochs)\n",
    "    st_tm=time()\n",
    "    run(batch_size)\n",
    "    print(\"\\nEpoch time: {}:{}s\".format(int(time()-st_tm)//60,int(time()-st_tm)%60))\n",
    "    g.save_weights(\"/content/drive/My Drive/generator.w8s\")\n",
    "    d.save_weights(\"/content/drive/My Drive/discriminator.w8s\")"
   ]
  },
  {
   "cell_type": "markdown",
   "metadata": {
    "colab_type": "text",
    "id": "smtAv2JLK4pH"
   },
   "source": [
    "## # Using generator with just batch size 1 for first time is causing images to be generated extreme"
   ]
  },
  {
   "cell_type": "code",
   "execution_count": 0,
   "metadata": {
    "colab": {},
    "colab_type": "code",
    "id": "EQfQRwSoK4pI",
    "scrolled": false
   },
   "outputs": [],
   "source": [
    "noise=cp.random.randn(16,100).astype(cp.float32)\n",
    "gen=g.predict(noise)\n",
    "gen_sample()\n",
    "imdt=[]\n",
    "st=np.random.randint(low=0,high=len(names))\n",
    "for ii in names[st:st+1]:\n",
    "    img=imread(DATA_DIR+\"/100k/\"+ii)\n",
    "#         img=cv2.resize(img, dsize=(64,64), interpolation=cv2.INTER_AREA)\n",
    "    imdt.append(img/255*2-1)\n",
    "img=cp.asarray(imdt)\n",
    "plt.imshow((img[0].get()+1)/2,interpolation='bicubic')\n",
    "plt.show()\n",
    "print(d.predict(img))"
   ]
  },
  {
   "cell_type": "code",
   "execution_count": 0,
   "metadata": {
    "colab": {},
    "colab_type": "code",
    "id": "CuAKJOqRK4pL",
    "scrolled": false
   },
   "outputs": [],
   "source": [
    "noise=cp.random.randn(16,100).astype(cp.float32)\n",
    "gen_grid(noise)"
   ]
  },
  {
   "cell_type": "code",
   "execution_count": 0,
   "metadata": {
    "colab": {},
    "colab_type": "code",
    "id": "Hb_3O8k_K4pQ"
   },
   "outputs": [],
   "source": []
  },
  {
   "cell_type": "code",
   "execution_count": 0,
   "metadata": {
    "colab": {},
    "colab_type": "code",
    "id": "wPs3TwIUK4pU"
   },
   "outputs": [],
   "source": [
    "# g.load_weights(\"/content/drive/My Drive/generator.w8s\")\n",
    "# d.load_weights(\"/content/drive/My Drive/discriminator.w8s\")"
   ]
  },
  {
   "cell_type": "code",
   "execution_count": 0,
   "metadata": {
    "colab": {},
    "colab_type": "code",
    "id": "psKxlLzzK4pX"
   },
   "outputs": [],
   "source": []
  },
  {
   "cell_type": "code",
   "execution_count": 0,
   "metadata": {
    "colab": {},
    "colab_type": "code",
    "id": "xQMwi-LNK4pa"
   },
   "outputs": [],
   "source": [
    "g.save_weights(\"/content/drive/My Drive/generator.w8s\")\n",
    "d.save_weights(\"/content/drive/My Drive/discriminator.w8s\")"
   ]
  },
  {
   "cell_type": "code",
   "execution_count": 0,
   "metadata": {
    "colab": {},
    "colab_type": "code",
    "id": "C6QM8iYvK4pe"
   },
   "outputs": [],
   "source": []
  }
 ],
 "metadata": {
  "accelerator": "GPU",
  "colab": {
   "collapsed_sections": [],
   "name": "DCGAN_celebs.ipynb",
   "provenance": []
  },
  "kernelspec": {
   "display_name": "Python 3",
   "language": "python",
   "name": "python3"
  },
  "language_info": {
   "codemirror_mode": {
    "name": "ipython",
    "version": 3
   },
   "file_extension": ".py",
   "mimetype": "text/x-python",
   "name": "python",
   "nbconvert_exporter": "python",
   "pygments_lexer": "ipython3",
   "version": "3.8.5"
  }
 },
 "nbformat": 4,
 "nbformat_minor": 1
}
